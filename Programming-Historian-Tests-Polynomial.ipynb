{
 "cells": [
  {
   "cell_type": "code",
   "execution_count": 523,
   "metadata": {},
   "outputs": [],
   "source": [
    "def poly(a, b, c, start=1, maximum=500):\n",
    "    # return x and y values for every x in a range\n",
    "    xs = []\n",
    "    ys = []\n",
    "    for i in range(start, maximum):\n",
    "        #ax2+bx+c , where a, b and c are constant\n",
    "        y = (a*i)**2 - (b*i) + c\n",
    "        xs.append(i)\n",
    "        ys.append(y)\n",
    "    return [xs, ys]\n",
    "x, y = poly(2, 2, 1)\n",
    "\n",
    "X_tr, X_te, y_tr, y_te = train_test_split(x, y, test_size=0.10, random_state=17)"
   ]
  },
  {
   "cell_type": "code",
   "execution_count": 381,
   "metadata": {},
   "outputs": [],
   "source": [
    "lr2 = LinearRegression()\n",
    "\n",
    "# fit the model to the training data\n",
    "lr2.fit(np.array(X_tr).reshape(-1, 1), np.array(y_tr))\n",
    "\n",
    "# make label predictions\n",
    "results2 = lr2.predict(np.array(X_te).reshape(-1, 1))"
   ]
  },
  {
   "cell_type": "code",
   "execution_count": 387,
   "metadata": {},
   "outputs": [
    {
     "data": {
      "image/png": "[encoded data removed]",
      "text/plain": [
       "<Figure size 432x288 with 1 Axes>"
      ]
     },
     "metadata": {
      "needs_background": "light"
     },
     "output_type": "display_data"
    }
   ],
   "source": [
    "results2[0], y_te[0]\n",
    "\n",
    "#plt.ylim(1895, 1935)\n",
    "#plt.xlim(1906, 1925)\n",
    "#sns.scatterplot(x=results_df['actual'], y=results_df['predicted'], alpha=0.2)\n",
    "plt.scatter(results2, y_te, alpha=.35)\n",
    "plt.plot(y_te, y_te, color='black')\n",
    "plt.show()"
   ]
  },
  {
   "cell_type": "code",
   "execution_count": 474,
   "metadata": {},
   "outputs": [
    {
     "data": {
      "text/plain": [
       "(651, 651)"
      ]
     },
     "execution_count": 474,
     "metadata": {},
     "output_type": "execute_result"
    }
   ],
   "source": [
    "def time_to_payoff(monthly_payment, interest_rate, balance=100000):\n",
    "    months = 0\n",
    "    while balance > 0:\n",
    "        monthly_interest = (balance * interest_rate) / 12\n",
    "        balance = balance + monthly_interest - monthly_payment\n",
    "        months += 1\n",
    "    return months\n",
    "\n",
    "xs = []\n",
    "ys = []\n",
    "for x in range(550, 1201): \n",
    "    y = time_to_payoff(x, 0.05, balance=100000) \n",
    "    xs.append(x)\n",
    "    ys.append(y)\n",
    "len(xs), len(ys)"
   ]
  },
  {
   "cell_type": "code",
   "execution_count": 475,
   "metadata": {},
   "outputs": [
    {
     "name": "stdout",
     "output_type": "stream",
     "text": [
      "550 575 600 625 650 1200\n",
      "341 311 286 265 247 103\n"
     ]
    }
   ],
   "source": [
    "print(xs[0], xs[25], xs[50], xs[75], xs[100], xs[-1])\n",
    "print(ys[0], ys[25], ys[50], ys[75], ys[100], ys[-1])"
   ]
  },
  {
   "cell_type": "code",
   "execution_count": 482,
   "metadata": {},
   "outputs": [
    {
     "data": {
      "image/png": "[encoded data removed]",
      "text/plain": [
       "<Figure size 432x288 with 1 Axes>"
      ]
     },
     "metadata": {
      "needs_background": "light"
     },
     "output_type": "display_data"
    }
   ],
   "source": [
    "#plt.scatter(results2, y_te, alpha=.35)\n",
    "plt.plot(xs, ys, color='black')\n",
    "plt.ylabel('Months to Payoff')\n",
    "plt.xlabel('Monthly Payment (Dollars)')\n",
    "#plt.show()\n",
    "plt.savefig('loan_payoff.png')"
   ]
  },
  {
   "cell_type": "code",
   "execution_count": 483,
   "metadata": {},
   "outputs": [
    {
     "data": {
      "text/plain": [
       "66"
      ]
     },
     "execution_count": 483,
     "metadata": {},
     "output_type": "execute_result"
    }
   ],
   "source": [
    "X_tr, X_te, y_tr, y_te = train_test_split(xs, ys, test_size=0.10, random_state=33)\n",
    "lr2 = LinearRegression()\n",
    "\n",
    "# fit the model to the training data\n",
    "lr2.fit(np.array(X_tr).reshape(-1, 1), np.array(y_tr))\n",
    "\n",
    "# make label predictions\n",
    "results2 = lr2.predict(np.array(X_te).reshape(-1, 1))\n",
    "len(results2)"
   ]
  },
  {
   "cell_type": "code",
   "execution_count": 484,
   "metadata": {},
   "outputs": [
    {
     "data": {
      "text/plain": [
       "array([-0.30988435])"
      ]
     },
     "execution_count": 484,
     "metadata": {},
     "output_type": "execute_result"
    }
   ],
   "source": [
    "lr2.coef_"
   ]
  },
  {
   "cell_type": "code",
   "execution_count": 485,
   "metadata": {},
   "outputs": [
    {
     "data": {
      "text/plain": [
       "445.8523956769465"
      ]
     },
     "execution_count": 485,
     "metadata": {},
     "output_type": "execute_result"
    }
   ],
   "source": [
    "lr2.intercept_"
   ]
  },
  {
   "cell_type": "code",
   "execution_count": 486,
   "metadata": {},
   "outputs": [
    {
     "data": {
      "text/plain": [
       "(1019, 130.08024026686394, 127)"
      ]
     },
     "execution_count": 486,
     "metadata": {},
     "output_type": "execute_result"
    }
   ],
   "source": [
    "p = (lr2.coef_ * X_te[0])+lr2.intercept_\n",
    "X_te[0], p[0], y_te[0]"
   ]
  },
  {
   "cell_type": "code",
   "execution_count": 487,
   "metadata": {},
   "outputs": [
    {
     "data": {
      "text/plain": [
       "array([0.87705825])"
      ]
     },
     "execution_count": 487,
     "metadata": {},
     "output_type": "execute_result"
    }
   ],
   "source": [
    "(lr2.coef_ * 1435.94)+lr2.intercept_"
   ]
  },
  {
   "cell_type": "code",
   "execution_count": 488,
   "metadata": {},
   "outputs": [
    {
     "data": {
      "text/plain": [
       "83"
      ]
     },
     "execution_count": 488,
     "metadata": {},
     "output_type": "execute_result"
    }
   ],
   "source": [
    "time_to_payoff(1435.94, 0.05, balance=100000)"
   ]
  },
  {
   "cell_type": "code",
   "execution_count": 492,
   "metadata": {},
   "outputs": [
    {
     "data": {
      "image/png": "[encoded data removed]",
      "text/plain": [
       "<Figure size 432x288 with 1 Axes>"
      ]
     },
     "metadata": {
      "needs_background": "light"
     },
     "output_type": "display_data"
    }
   ],
   "source": [
    "plt.ylim(50, 350)\n",
    "plt.xlim(50, 350)\n",
    "plt.scatter(results2, y_te, alpha=.35)\n",
    "plt.plot([50, 350], [50, 350], color='black', label=\"Regression Line (value if x and y are equal)\")\n",
    "plt.ylabel('Predicted Payoff Time')\n",
    "plt.xlabel('Actual Payoff Time')\n",
    "plt.legend()\n",
    "#plt.show()\n",
    "plt.savefig('loan_predictions.png')"
   ]
  }
 ],
 "metadata": {
  "kernelspec": {
   "display_name": "Python 3",
   "language": "python",
   "name": "python3"
  },
  "language_info": {
   "codemirror_mode": {
    "name": "ipython",
    "version": 3
   },
   "file_extension": ".py",
   "mimetype": "text/x-python",
   "name": "python",
   "nbconvert_exporter": "python",
   "pygments_lexer": "ipython3",
   "version": "3.7.3"
  }
 },
 "nbformat": 4,
 "nbformat_minor": 4
}
